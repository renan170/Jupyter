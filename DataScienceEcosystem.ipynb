{
  "nbformat": 4,
  "nbformat_minor": 0,
  "metadata": {
    "colab": {
      "provenance": []
    },
    "kernelspec": {
      "name": "python3",
      "display_name": "Python 3"
    },
    "language_info": {
      "name": "python"
    }
  },
  "cells": [
    {
      "cell_type": "markdown",
      "source": [
        "# Data Science Tools and Ecosystem\n"
      ],
      "metadata": {
        "id": "YzE4eTKd4d9M"
      }
    },
    {
      "cell_type": "markdown",
      "source": [
        "In this notebook, Data Science Tools and Ecosystem are summarized."
      ],
      "metadata": {
        "id": "eyayaZtj4dE3"
      }
    },
    {
      "cell_type": "markdown",
      "source": [
        "Objectives:\n",
        "- List popular languages for Data Science\n",
        "- List popular Data Science libraries\n",
        "- Create a code cell to multiply and add numbers\n",
        "- Create a code cell to convert minutes to hours"
      ],
      "metadata": {
        "id": "NiSU5cnl8Cri"
      }
    },
    {
      "cell_type": "markdown",
      "source": [
        "Some of the popular languages that Data Scientists use are:\n",
        "1. Python\n",
        "2. R\n",
        "3. C++"
      ],
      "metadata": {
        "id": "abadMmKI5dxx"
      }
    },
    {
      "cell_type": "markdown",
      "source": [
        "Some of the commonly used libraries used by Data Scientists include:\n",
        "1. Pandas\n",
        "2. Numpy\n",
        "3. Matplotlib\n",
        "4. Seaborn\n",
        "5. Scikit-learn"
      ],
      "metadata": {
        "id": "0AwHpqHP52NN"
      }
    },
    {
      "cell_type": "markdown",
      "source": [
        "|Data Science Tools|\n",
        "|------|\n",
        "|Hadoop|\n",
        "|Orange|\n",
        "|Jupyter Notebooks|\n"
      ],
      "metadata": {
        "id": "dVCUkaLS6Mv_"
      }
    },
    {
      "cell_type": "markdown",
      "source": [
        "### Below are a few examples of evaluating arithmetic expressions in Python."
      ],
      "metadata": {
        "id": "JpeLf08Z6x7y"
      }
    },
    {
      "cell_type": "code",
      "source": [
        "# This a simple arithmetic expression to mutiply then add integers\n",
        "(3*4)+5"
      ],
      "metadata": {
        "colab": {
          "base_uri": "https://localhost:8080/"
        },
        "id": "jiJ5Igtf7Q0w",
        "outputId": "133d2052-ffd9-4e33-bcfa-f2e6dd268236"
      },
      "execution_count": 2,
      "outputs": [
        {
          "output_type": "execute_result",
          "data": {
            "text/plain": [
              "17"
            ]
          },
          "metadata": {},
          "execution_count": 2
        }
      ]
    },
    {
      "cell_type": "code",
      "source": [
        "# This will convert 200 minutes to hours by diving by 60\n",
        "\n",
        "200/60"
      ],
      "metadata": {
        "colab": {
          "base_uri": "https://localhost:8080/"
        },
        "id": "RVOl6-Tr7oza",
        "outputId": "4f87c71e-d8ff-439c-ecfc-a85e9a4bfbf5"
      },
      "execution_count": 3,
      "outputs": [
        {
          "output_type": "execute_result",
          "data": {
            "text/plain": [
              "3.3333333333333335"
            ]
          },
          "metadata": {},
          "execution_count": 3
        }
      ]
    },
    {
      "cell_type": "markdown",
      "source": [
        "## Author\n",
        "Renán Pachas Cueva"
      ],
      "metadata": {
        "id": "HfIYOHCF9FEg"
      }
    },
    {
      "cell_type": "markdown",
      "source": [],
      "metadata": {
        "id": "M3b3lL5f9JPP"
      }
    }
  ]
}